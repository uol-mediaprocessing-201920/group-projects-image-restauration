{
  "nbformat": 4,
  "nbformat_minor": 0,
  "metadata": {
    "colab": {
      "name": "main",
      "provenance": [],
      "collapsed_sections": [],
      "toc_visible": true,
      "include_colab_link": true
    },
    "kernelspec": {
      "name": "python3",
      "display_name": "Python 3"
    }
  },
  "cells": [
    {
      "cell_type": "markdown",
      "metadata": {
        "id": "view-in-github",
        "colab_type": "text"
      },
      "source": [
        "<a href=\"https://colab.research.google.com/github/uol-mediaprocessing/group-projects-image-restauration/blob/master/main.ipynb\" target=\"_parent\"><img src=\"https://colab.research.google.com/assets/colab-badge.svg\" alt=\"Open In Colab\"/></a>"
      ]
    },
    {
      "cell_type": "markdown",
      "metadata": {
        "id": "Dfr3SB-x2a2b",
        "colab_type": "text"
      },
      "source": [
        "# Restoration of Damaged Images"
      ]
    },
    {
      "cell_type": "markdown",
      "metadata": {
        "id": "1bXCvuGX2eXW",
        "colab_type": "text"
      },
      "source": [
        "Gruppenmitglieder:\n",
        "\n",
        "- Sören Gade\n",
        "- Florian Meyer"
      ]
    },
    {
      "cell_type": "markdown",
      "metadata": {
        "id": "yPzMHB8jFiAE",
        "colab_type": "text"
      },
      "source": [
        "**Definition**: Image restoration is the process of reversing processes that damaged the image. The objective of image restoration techniques is to reduce noise and recover resolution loss.\n",
        "(see https://en.wikipedia.org/wiki/Image_restoration)"
      ]
    },
    {
      "cell_type": "markdown",
      "metadata": {
        "id": "eexafTC5GhdM",
        "colab_type": "text"
      },
      "source": [
        "Sammlung\n",
        "\n",
        "- https://towardsdatascience.com/how-to-perform-image-restoration-absolutely-dataset-free-d08da1a1e96d\n",
        "- https://www.owlnet.rice.edu/~elec539/Projects99/BACH/proj2/intro.html\n",
        "- https://www.slideshare.net/kalyanacharjya/image-restoration-40589017\n",
        "- https://de.wikipedia.org/wiki/Inpainting\n",
        "- http://www-inst.eecs.berkeley.edu/~ee225b/sp07/handouts/Image_Restoration_99.pdf\n",
        "- https://opencv-python-tutroals.readthedocs.io/en/latest/py_tutorials/py_photo/py_inpainting/py_inpainting.html\n",
        "- Digital Restoration from Start to Finish: How to repair old and damaged photographs, 9781136098130\n"
      ]
    },
    {
      "cell_type": "markdown",
      "metadata": {
        "id": "NWXa12at2ozn",
        "colab_type": "text"
      },
      "source": [
        "## Ziele\n",
        "\n",
        "Folgende Zielsetzung soll bis zum Ende der Modullaufzeit erreicht werden:\n",
        "\n",
        "1. Wiederherstellung von beschädigten Bildern.\n",
        "2. Selbstständige Erkennung von defekten Stellen im Bild.\n",
        "3. Erstellung eines Algorithmus, welcher beschädigte Eingabebilder repariert.\n",
        "\n",
        "## Abgrenzung\n",
        "\n",
        "Folgende Themen werden in diesem Projekt nicht umgesetzt:\n",
        "\n",
        "1. Wiederherstellung nur von Bildern in Graustufen oder Sepia\n",
        "2. Ausgabe nur von Graustufen\n",
        "3. Eingabe kann nur unscharf (blurred) oder verrauscht (noise) sein."
      ]
    },
    {
      "cell_type": "markdown",
      "metadata": {
        "id": "-icA7j484RDk",
        "colab_type": "text"
      },
      "source": [
        "## Setup"
      ]
    },
    {
      "cell_type": "markdown",
      "metadata": {
        "id": "HMNx681n4mBL",
        "colab_type": "text"
      },
      "source": [
        "![Damaged image](https://miro.medium.com/max/1730/1*GmZ72egLLM0c-8Yx9SKEzg.png)"
      ]
    },
    {
      "cell_type": "code",
      "metadata": {
        "id": "mQERVNPq4S1O",
        "colab_type": "code",
        "colab": {}
      },
      "source": [
        "! wget https://miro.medium.com/max/1730/1*GmZ72egLLM0c-8Yx9SKEzg.png -o comparison.png"
      ],
      "execution_count": 0,
      "outputs": []
    }
  ]
}