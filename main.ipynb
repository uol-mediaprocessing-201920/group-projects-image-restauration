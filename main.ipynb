{
  "nbformat": 4,
  "nbformat_minor": 0,
  "metadata": {
    "colab": {
      "name": "Restoration of Damaged Images",
      "provenance": [],
      "collapsed_sections": [],
      "toc_visible": true,
      "include_colab_link": true
    },
    "kernelspec": {
      "name": "python3",
      "display_name": "Python 3"
    }
  },
  "cells": [
    {
      "cell_type": "markdown",
      "metadata": {
        "id": "view-in-github",
        "colab_type": "text"
      },
      "source": [
        "<a href=\"https://colab.research.google.com/github/uol-mediaprocessing/group-projects-image-restauration/blob/master/main.ipynb\" target=\"_parent\"><img src=\"https://colab.research.google.com/assets/colab-badge.svg\" alt=\"Open In Colab\"/></a>"
      ]
    },
    {
      "cell_type": "markdown",
      "metadata": {
        "id": "Dfr3SB-x2a2b",
        "colab_type": "text"
      },
      "source": [
        "# Restoration of Damaged Images"
      ]
    },
    {
      "cell_type": "markdown",
      "metadata": {
        "id": "1bXCvuGX2eXW",
        "colab_type": "text"
      },
      "source": [
        "Gruppenmitglieder:\n",
        "\n",
        "- Sören Gade\n",
        "- Florian Meyer"
      ]
    },
    {
      "cell_type": "markdown",
      "metadata": {
        "id": "NWXa12at2ozn",
        "colab_type": "text"
      },
      "source": [
        "## Ziele\n",
        "\n",
        "Folgende Zielsetzung soll bis zum Ende der Modullaufzeit erreicht werden:\n",
        "\n",
        "1. _Ziel 1_\n",
        "2. _Ziel 2_\n",
        "3. _Ziel 3_\n",
        "4. _Ziel 4_"
      ]
    },
    {
      "cell_type": "markdown",
      "metadata": {
        "id": "-icA7j484RDk",
        "colab_type": "text"
      },
      "source": [
        "## Setup"
      ]
    },
    {
      "cell_type": "code",
      "metadata": {
        "id": "mQERVNPq4S1O",
        "colab_type": "code",
        "colab": {}
      },
      "source": [
        "! wget https://raw.githubusercontent.com/uol-mediaprocessing/notebooks/master/pictures/Lenna.png"
      ],
      "execution_count": 0,
      "outputs": []
    },
    {
      "cell_type": "markdown",
      "metadata": {
        "id": "HMNx681n4mBL",
        "colab_type": "text"
      },
      "source": [
        "![Lenna](Lenna.png)"
      ]
    }
  ]
}