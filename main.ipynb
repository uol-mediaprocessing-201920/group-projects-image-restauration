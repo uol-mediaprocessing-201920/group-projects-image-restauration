{
  "nbformat": 4,
  "nbformat_minor": 0,
  "metadata": {
    "colab": {
      "name": "Restoration of Damaged Images",
      "provenance": [],
      "collapsed_sections": [],
      "include_colab_link": true
    },
    "kernelspec": {
      "name": "python3",
      "display_name": "Python 3"
    }
  },
  "cells": [
    {
      "cell_type": "markdown",
      "metadata": {
        "id": "view-in-github",
        "colab_type": "text"
      },
      "source": [
        "<a href=\"https://colab.research.google.com/github/uol-mediaprocessing/group-projects-image-restauration/blob/master/main.ipynb\" target=\"_parent\"><img src=\"https://colab.research.google.com/assets/colab-badge.svg\" alt=\"Open In Colab\"/></a>"
      ]
    },
    {
      "cell_type": "markdown",
      "metadata": {
        "id": "Dfr3SB-x2a2b",
        "colab_type": "text"
      },
      "source": [
        "# Group H: Restoration of Damaged Images"
      ]
    },
    {
      "cell_type": "markdown",
      "metadata": {
        "id": "1bXCvuGX2eXW",
        "colab_type": "text"
      },
      "source": [
        "Group members:\n",
        "\n",
        "- Sören Gade\n",
        "- Florian Meyer"
      ]
    },
    {
      "cell_type": "markdown",
      "metadata": {
        "id": "yPzMHB8jFiAE",
        "colab_type": "text"
      },
      "source": [
        "**Definition**: Image restoration is the process of reversing processes that damaged the image. The objective of image restoration techniques is to reduce noise and recover resolution loss.\n",
        "(see https://en.wikipedia.org/wiki/Image_restoration)"
      ]
    },
    {
      "cell_type": "markdown",
      "metadata": {
        "id": "NWXa12at2ozn",
        "colab_type": "text"
      },
      "source": [
        "## Goals\n",
        "\n",
        "The following goals should be accomplished until the end of the project:\n",
        "\n",
        "1. Independant restoration of damaged images.\n",
        "   The application should be able to restore images without guidance.\n",
        "2. Autonomous detection of defects in images.\n",
        "   The application should detect defects that need repairing without guidance.\n",
        "\n",
        "## Limitations\n",
        "\n",
        "The following points make the goals more clear:\n",
        "\n",
        "1. Damages should be clearly visible and discernable from the image's content.\n",
        "2. Restoration only of images in grayscale or sepia color spaces."
      ]
    },
    {
      "cell_type": "markdown",
      "metadata": {
        "id": "4PN804RT0unL",
        "colab_type": "text"
      },
      "source": [
        "## Open tasks\n",
        "\n",
        "- [ ] Define use-cases as user stories. ex: User takes photos of old pictures of loved ones, application restores them to full quality.\n",
        "- [ ] How to detect defects? Is edge detection sufficient?\n",
        "- [ ] Define different sets of damages. ex: missing colors, wrong colors, missing pieces of image.\n",
        "- [ ] Does the limition to grayscale and sepia images really simlify the process of restoration?\n",
        "- [ ] Aquire more example images, make our own."
      ]
    },
    {
      "cell_type": "markdown",
      "metadata": {
        "id": "eexafTC5GhdM",
        "colab_type": "text"
      },
      "source": [
        "### Link collection\n",
        "\n",
        "- https://towardsdatascience.com/how-to-perform-image-restoration-absolutely-dataset-free-d08da1a1e96d\n",
        "- https://www.owlnet.rice.edu/~elec539/Projects99/BACH/proj2/intro.html\n",
        "- https://www.slideshare.net/kalyanacharjya/image-restoration-40589017\n",
        "- https://de.wikipedia.org/wiki/Inpainting\n",
        "- http://www-inst.eecs.berkeley.edu/~ee225b/sp07/handouts/Image_Restoration_99.pdf\n",
        "- https://opencv-python-tutroals.readthedocs.io/en/latest/py_tutorials/py_photo/py_inpainting/py_inpainting.html\n",
        "- Digital Restoration from Start to Finish: How to repair old and damaged photographs, ISBN 9781136098130\n"
      ]
    },
    {
      "cell_type": "markdown",
      "metadata": {
        "id": "qVY27zxEMfnJ",
        "colab_type": "text"
      },
      "source": [
        "### Technical preparations\n",
        "\n",
        "- Defects should be recognized without user-interaction or any other help\n",
        "\n",
        "- OpenCV *imgproc* module (source: \"Learning Image Processing with Python\", ISBN 9781783287666, S.57), Inpainting\n",
        "- Inpainting using grayscale mask Image (Raspberry Pi Computer vision programming, ISBN 9781784395605, S. 91)"
      ]
    },
    {
      "cell_type": "markdown",
      "metadata": {
        "id": "-icA7j484RDk",
        "colab_type": "text"
      },
      "source": [
        "## Setup"
      ]
    },
    {
      "cell_type": "markdown",
      "metadata": {
        "id": "HMNx681n4mBL",
        "colab_type": "text"
      },
      "source": [
        "Example Image:\n",
        "\n",
        "![Damaged image](https://miro.medium.com/max/1730/1*GmZ72egLLM0c-8Yx9SKEzg.png)\n",
        "\n",
        "Damaged image – restored image"
      ]
    },
    {
      "cell_type": "code",
      "metadata": {
        "id": "mQERVNPq4S1O",
        "colab_type": "code",
        "colab": {}
      },
      "source": [
        "! wget https://miro.medium.com/max/1730/1*GmZ72egLLM0c-8Yx9SKEzg.png -o comparison.png"
      ],
      "execution_count": 0,
      "outputs": []
    }
  ]
}