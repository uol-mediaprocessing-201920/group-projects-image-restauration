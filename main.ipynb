{
  "nbformat": 4,
  "nbformat_minor": 0,
  "metadata": {
    "colab": {
      "name": "Untitled",
      "provenance": [],
      "collapsed_sections": [],
      "include_colab_link": true
    },
    "kernelspec": {
      "name": "python3",
      "display_name": "Python 3"
    }
  },
  "cells": [
    {
      "cell_type": "markdown",
      "metadata": {
        "id": "view-in-github",
        "colab_type": "text"
      },
      "source": [
        "<a href=\"https://colab.research.google.com/github/uol-mediaprocessing/group-projects-image-restauration/blob/master/main.ipynb\" target=\"_parent\"><img src=\"https://colab.research.google.com/assets/colab-badge.svg\" alt=\"Open In Colab\"/></a>"
      ]
    },
    {
      "cell_type": "markdown",
      "metadata": {
        "id": "d3tiMP9_3Vqz",
        "colab_type": "text"
      },
      "source": [
        "# Restoration Damaged Images"
      ]
    },
    {
      "cell_type": "markdown",
      "metadata": {
        "id": "dCuyebok3VxU",
        "colab_type": "text"
      },
      "source": [
        "## Gruppenmitglieder:\n",
        "\n",
        "- Sören Gade\n",
        "- Florian Meyer\n",
        "\n"
      ]
    },
    {
      "cell_type": "markdown",
      "metadata": {
        "id": "06vE8JCw3V1S",
        "colab_type": "text"
      },
      "source": [
        "## Ziele\n",
        "\n",
        "Folgende Zielsetzung soll bis zum Ende der Modullaufzeit erreicht werden:\n",
        "\n",
        "1. Ziel 1\n",
        "2. Ziel 2\n",
        "3. Ziel 3"
      ]
    }
  ]
}